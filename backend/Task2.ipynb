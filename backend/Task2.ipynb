{
  "cells": [
    {
      "cell_type": "code",
      "execution_count": null,
      "metadata": {
        "id": "qCEdjZmaRSxe"
      },
      "outputs": [],
      "source": [
        "import spacy\n",
        "import gensim\n",
        "import pandas as pd\n",
        "from sklearn.feature_extraction.text import CountVectorizer\n",
        "from sklearn.feature_extraction.text import TfidfVectorizer\n",
        "from collections import defaultdict\n",
        "import numpy as np"
      ]
    },
    {
      "cell_type": "code",
      "execution_count": null,
      "metadata": {
        "colab": {
          "base_uri": "https://localhost:8080/"
        },
        "id": "XFBviALyRX_m",
        "outputId": "3e61c539-7a9a-4762-bd4b-f060fa982ed6"
      },
      "outputs": [
        {
          "name": "stdout",
          "output_type": "stream",
          "text": [
            "Drive already mounted at /content/drive; to attempt to forcibly remount, call drive.mount(\"/content/drive\", force_remount=True).\n"
          ]
        }
      ],
      "source": [
        "from google.colab import drive\n",
        "drive.mount('/content/drive')"
      ]
    },
    {
      "cell_type": "markdown",
      "source": [
        "Step 1: Generate Count Vectors"
      ],
      "metadata": {
        "id": "SWIa-xtRa8wA"
      }
    },
    {
      "cell_type": "code",
      "execution_count": null,
      "metadata": {
        "id": "sZZ2Z4NSYqMD"
      },
      "outputs": [],
      "source": [
        "nlp = spacy.load('en_core_web_sm')"
      ]
    },
    {
      "cell_type": "code",
      "execution_count": null,
      "metadata": {
        "id": "cOYITmHAR3p6"
      },
      "outputs": [],
      "source": [
        "# Load the vocabulary from vocab.txt\n",
        "def load_vocab(vocab_file):\n",
        "    vocab = {}\n",
        "    with open(vocab_file, 'r') as file:\n",
        "        for line in file:\n",
        "          word, index = line.strip().split(':')\n",
        "          vocab[word] = int(index)\n",
        "    return vocab"
      ]
    },
    {
      "cell_type": "code",
      "execution_count": null,
      "metadata": {
        "id": "6euPPhT_URhz"
      },
      "outputs": [],
      "source": [
        "vocab_file = '/content/drive/MyDrive/Natural Language Processing/Assignment5_Solution/vocab.txt'\n",
        "vocabulary = load_vocab(vocab_file)"
      ]
    },
    {
      "cell_type": "code",
      "execution_count": null,
      "metadata": {
        "id": "MhSE8QK3ccPx"
      },
      "outputs": [],
      "source": [
        "def generate_count_vector(description, vocab):\n",
        "    doc = nlp(description.lower())\n",
        "    word_freq = defaultdict(int)\n",
        "    for token in doc:\n",
        "        if token.text in vocab:\n",
        "            word_freq[vocab[token.text]] += 1\n",
        "    return word_freq"
      ]
    },
    {
      "cell_type": "code",
      "execution_count": null,
      "metadata": {
        "colab": {
          "base_uri": "https://localhost:8080/",
          "height": 293
        },
        "id": "3IbR_72EXe_D",
        "outputId": "f724afa8-2ce6-4fa3-9bb8-78911e69ff63"
      },
      "outputs": [
        {
          "output_type": "execute_result",
          "data": {
            "text/plain": [
              "      Category                                          Title  Webindex  \\\n",
              "0  Engineering  Site Maintenance Engineer (ElectroMechanical)  72635560   \n",
              "1  Engineering                         Inspector  Sheet Metal  69145960   \n",
              "2  Engineering                Graduate Recruitment Consultant  69267760   \n",
              "3  Engineering                   Electronics Project Engineer  69265319   \n",
              "4  Engineering                     Signalling Design Engineer  69198249   \n",
              "\n",
              "                      Company  \\\n",
              "0  Rise Technical Recruitment   \n",
              "1                        None   \n",
              "2       Akton Recruitment Ltd   \n",
              "3     Progressive Recruitment   \n",
              "4               Hays TCE Jobs   \n",
              "\n",
              "                                         Description  \n",
              "0  site maintenance electromechanical birmingham ...  \n",
              "1  absolute acting behalf established contract sh...  \n",
              "2  graduate consultant location altrincham compet...  \n",
              "3  electronics project technology permanent oxfor...  \n",
              "4  largest consultancies world signalling growing...  "
            ],
            "text/html": [
              "\n",
              "  <div id=\"df-76971b5e-358e-4d7a-9357-3e9f833ffce2\" class=\"colab-df-container\">\n",
              "    <div>\n",
              "<style scoped>\n",
              "    .dataframe tbody tr th:only-of-type {\n",
              "        vertical-align: middle;\n",
              "    }\n",
              "\n",
              "    .dataframe tbody tr th {\n",
              "        vertical-align: top;\n",
              "    }\n",
              "\n",
              "    .dataframe thead th {\n",
              "        text-align: right;\n",
              "    }\n",
              "</style>\n",
              "<table border=\"1\" class=\"dataframe\">\n",
              "  <thead>\n",
              "    <tr style=\"text-align: right;\">\n",
              "      <th></th>\n",
              "      <th>Category</th>\n",
              "      <th>Title</th>\n",
              "      <th>Webindex</th>\n",
              "      <th>Company</th>\n",
              "      <th>Description</th>\n",
              "    </tr>\n",
              "  </thead>\n",
              "  <tbody>\n",
              "    <tr>\n",
              "      <th>0</th>\n",
              "      <td>Engineering</td>\n",
              "      <td>Site Maintenance Engineer (ElectroMechanical)</td>\n",
              "      <td>72635560</td>\n",
              "      <td>Rise Technical Recruitment</td>\n",
              "      <td>site maintenance electromechanical birmingham ...</td>\n",
              "    </tr>\n",
              "    <tr>\n",
              "      <th>1</th>\n",
              "      <td>Engineering</td>\n",
              "      <td>Inspector  Sheet Metal</td>\n",
              "      <td>69145960</td>\n",
              "      <td>None</td>\n",
              "      <td>absolute acting behalf established contract sh...</td>\n",
              "    </tr>\n",
              "    <tr>\n",
              "      <th>2</th>\n",
              "      <td>Engineering</td>\n",
              "      <td>Graduate Recruitment Consultant</td>\n",
              "      <td>69267760</td>\n",
              "      <td>Akton Recruitment Ltd</td>\n",
              "      <td>graduate consultant location altrincham compet...</td>\n",
              "    </tr>\n",
              "    <tr>\n",
              "      <th>3</th>\n",
              "      <td>Engineering</td>\n",
              "      <td>Electronics Project Engineer</td>\n",
              "      <td>69265319</td>\n",
              "      <td>Progressive Recruitment</td>\n",
              "      <td>electronics project technology permanent oxfor...</td>\n",
              "    </tr>\n",
              "    <tr>\n",
              "      <th>4</th>\n",
              "      <td>Engineering</td>\n",
              "      <td>Signalling Design Engineer</td>\n",
              "      <td>69198249</td>\n",
              "      <td>Hays TCE Jobs</td>\n",
              "      <td>largest consultancies world signalling growing...</td>\n",
              "    </tr>\n",
              "  </tbody>\n",
              "</table>\n",
              "</div>\n",
              "    <div class=\"colab-df-buttons\">\n",
              "\n",
              "  <div class=\"colab-df-container\">\n",
              "    <button class=\"colab-df-convert\" onclick=\"convertToInteractive('df-76971b5e-358e-4d7a-9357-3e9f833ffce2')\"\n",
              "            title=\"Convert this dataframe to an interactive table.\"\n",
              "            style=\"display:none;\">\n",
              "\n",
              "  <svg xmlns=\"http://www.w3.org/2000/svg\" height=\"24px\" viewBox=\"0 -960 960 960\">\n",
              "    <path d=\"M120-120v-720h720v720H120Zm60-500h600v-160H180v160Zm220 220h160v-160H400v160Zm0 220h160v-160H400v160ZM180-400h160v-160H180v160Zm440 0h160v-160H620v160ZM180-180h160v-160H180v160Zm440 0h160v-160H620v160Z\"/>\n",
              "  </svg>\n",
              "    </button>\n",
              "\n",
              "  <style>\n",
              "    .colab-df-container {\n",
              "      display:flex;\n",
              "      gap: 12px;\n",
              "    }\n",
              "\n",
              "    .colab-df-convert {\n",
              "      background-color: #E8F0FE;\n",
              "      border: none;\n",
              "      border-radius: 50%;\n",
              "      cursor: pointer;\n",
              "      display: none;\n",
              "      fill: #1967D2;\n",
              "      height: 32px;\n",
              "      padding: 0 0 0 0;\n",
              "      width: 32px;\n",
              "    }\n",
              "\n",
              "    .colab-df-convert:hover {\n",
              "      background-color: #E2EBFA;\n",
              "      box-shadow: 0px 1px 2px rgba(60, 64, 67, 0.3), 0px 1px 3px 1px rgba(60, 64, 67, 0.15);\n",
              "      fill: #174EA6;\n",
              "    }\n",
              "\n",
              "    .colab-df-buttons div {\n",
              "      margin-bottom: 4px;\n",
              "    }\n",
              "\n",
              "    [theme=dark] .colab-df-convert {\n",
              "      background-color: #3B4455;\n",
              "      fill: #D2E3FC;\n",
              "    }\n",
              "\n",
              "    [theme=dark] .colab-df-convert:hover {\n",
              "      background-color: #434B5C;\n",
              "      box-shadow: 0px 1px 3px 1px rgba(0, 0, 0, 0.15);\n",
              "      filter: drop-shadow(0px 1px 2px rgba(0, 0, 0, 0.3));\n",
              "      fill: #FFFFFF;\n",
              "    }\n",
              "  </style>\n",
              "\n",
              "    <script>\n",
              "      const buttonEl =\n",
              "        document.querySelector('#df-76971b5e-358e-4d7a-9357-3e9f833ffce2 button.colab-df-convert');\n",
              "      buttonEl.style.display =\n",
              "        google.colab.kernel.accessAllowed ? 'block' : 'none';\n",
              "\n",
              "      async function convertToInteractive(key) {\n",
              "        const element = document.querySelector('#df-76971b5e-358e-4d7a-9357-3e9f833ffce2');\n",
              "        const dataTable =\n",
              "          await google.colab.kernel.invokeFunction('convertToInteractive',\n",
              "                                                    [key], {});\n",
              "        if (!dataTable) return;\n",
              "\n",
              "        const docLinkHtml = 'Like what you see? Visit the ' +\n",
              "          '<a target=\"_blank\" href=https://colab.research.google.com/notebooks/data_table.ipynb>data table notebook</a>'\n",
              "          + ' to learn more about interactive tables.';\n",
              "        element.innerHTML = '';\n",
              "        dataTable['output_type'] = 'display_data';\n",
              "        await google.colab.output.renderOutput(dataTable, element);\n",
              "        const docLink = document.createElement('div');\n",
              "        docLink.innerHTML = docLinkHtml;\n",
              "        element.appendChild(docLink);\n",
              "      }\n",
              "    </script>\n",
              "  </div>\n",
              "\n",
              "\n",
              "<div id=\"df-d8b1069a-5d37-4376-ac56-711d84291a6c\">\n",
              "  <button class=\"colab-df-quickchart\" onclick=\"quickchart('df-d8b1069a-5d37-4376-ac56-711d84291a6c')\"\n",
              "            title=\"Suggest charts\"\n",
              "            style=\"display:none;\">\n",
              "\n",
              "<svg xmlns=\"http://www.w3.org/2000/svg\" height=\"24px\"viewBox=\"0 0 24 24\"\n",
              "     width=\"24px\">\n",
              "    <g>\n",
              "        <path d=\"M19 3H5c-1.1 0-2 .9-2 2v14c0 1.1.9 2 2 2h14c1.1 0 2-.9 2-2V5c0-1.1-.9-2-2-2zM9 17H7v-7h2v7zm4 0h-2V7h2v10zm4 0h-2v-4h2v4z\"/>\n",
              "    </g>\n",
              "</svg>\n",
              "  </button>\n",
              "\n",
              "<style>\n",
              "  .colab-df-quickchart {\n",
              "      --bg-color: #E8F0FE;\n",
              "      --fill-color: #1967D2;\n",
              "      --hover-bg-color: #E2EBFA;\n",
              "      --hover-fill-color: #174EA6;\n",
              "      --disabled-fill-color: #AAA;\n",
              "      --disabled-bg-color: #DDD;\n",
              "  }\n",
              "\n",
              "  [theme=dark] .colab-df-quickchart {\n",
              "      --bg-color: #3B4455;\n",
              "      --fill-color: #D2E3FC;\n",
              "      --hover-bg-color: #434B5C;\n",
              "      --hover-fill-color: #FFFFFF;\n",
              "      --disabled-bg-color: #3B4455;\n",
              "      --disabled-fill-color: #666;\n",
              "  }\n",
              "\n",
              "  .colab-df-quickchart {\n",
              "    background-color: var(--bg-color);\n",
              "    border: none;\n",
              "    border-radius: 50%;\n",
              "    cursor: pointer;\n",
              "    display: none;\n",
              "    fill: var(--fill-color);\n",
              "    height: 32px;\n",
              "    padding: 0;\n",
              "    width: 32px;\n",
              "  }\n",
              "\n",
              "  .colab-df-quickchart:hover {\n",
              "    background-color: var(--hover-bg-color);\n",
              "    box-shadow: 0 1px 2px rgba(60, 64, 67, 0.3), 0 1px 3px 1px rgba(60, 64, 67, 0.15);\n",
              "    fill: var(--button-hover-fill-color);\n",
              "  }\n",
              "\n",
              "  .colab-df-quickchart-complete:disabled,\n",
              "  .colab-df-quickchart-complete:disabled:hover {\n",
              "    background-color: var(--disabled-bg-color);\n",
              "    fill: var(--disabled-fill-color);\n",
              "    box-shadow: none;\n",
              "  }\n",
              "\n",
              "  .colab-df-spinner {\n",
              "    border: 2px solid var(--fill-color);\n",
              "    border-color: transparent;\n",
              "    border-bottom-color: var(--fill-color);\n",
              "    animation:\n",
              "      spin 1s steps(1) infinite;\n",
              "  }\n",
              "\n",
              "  @keyframes spin {\n",
              "    0% {\n",
              "      border-color: transparent;\n",
              "      border-bottom-color: var(--fill-color);\n",
              "      border-left-color: var(--fill-color);\n",
              "    }\n",
              "    20% {\n",
              "      border-color: transparent;\n",
              "      border-left-color: var(--fill-color);\n",
              "      border-top-color: var(--fill-color);\n",
              "    }\n",
              "    30% {\n",
              "      border-color: transparent;\n",
              "      border-left-color: var(--fill-color);\n",
              "      border-top-color: var(--fill-color);\n",
              "      border-right-color: var(--fill-color);\n",
              "    }\n",
              "    40% {\n",
              "      border-color: transparent;\n",
              "      border-right-color: var(--fill-color);\n",
              "      border-top-color: var(--fill-color);\n",
              "    }\n",
              "    60% {\n",
              "      border-color: transparent;\n",
              "      border-right-color: var(--fill-color);\n",
              "    }\n",
              "    80% {\n",
              "      border-color: transparent;\n",
              "      border-right-color: var(--fill-color);\n",
              "      border-bottom-color: var(--fill-color);\n",
              "    }\n",
              "    90% {\n",
              "      border-color: transparent;\n",
              "      border-bottom-color: var(--fill-color);\n",
              "    }\n",
              "  }\n",
              "</style>\n",
              "\n",
              "  <script>\n",
              "    async function quickchart(key) {\n",
              "      const quickchartButtonEl =\n",
              "        document.querySelector('#' + key + ' button');\n",
              "      quickchartButtonEl.disabled = true;  // To prevent multiple clicks.\n",
              "      quickchartButtonEl.classList.add('colab-df-spinner');\n",
              "      try {\n",
              "        const charts = await google.colab.kernel.invokeFunction(\n",
              "            'suggestCharts', [key], {});\n",
              "      } catch (error) {\n",
              "        console.error('Error during call to suggestCharts:', error);\n",
              "      }\n",
              "      quickchartButtonEl.classList.remove('colab-df-spinner');\n",
              "      quickchartButtonEl.classList.add('colab-df-quickchart-complete');\n",
              "    }\n",
              "    (() => {\n",
              "      let quickchartButtonEl =\n",
              "        document.querySelector('#df-d8b1069a-5d37-4376-ac56-711d84291a6c button');\n",
              "      quickchartButtonEl.style.display =\n",
              "        google.colab.kernel.accessAllowed ? 'block' : 'none';\n",
              "    })();\n",
              "  </script>\n",
              "</div>\n",
              "\n",
              "    </div>\n",
              "  </div>\n"
            ],
            "application/vnd.google.colaboratory.intrinsic+json": {
              "type": "dataframe",
              "variable_name": "descriptions",
              "summary": "{\n  \"name\": \"descriptions\",\n  \"rows\": 776,\n  \"fields\": [\n    {\n      \"column\": \"Category\",\n      \"properties\": {\n        \"dtype\": \"category\",\n        \"num_unique_values\": 4,\n        \"samples\": [\n          \"Healthcare_Nursing\",\n          \"Accounting_Finance\",\n          \"Engineering\"\n        ],\n        \"semantic_type\": \"\",\n        \"description\": \"\"\n      }\n    },\n    {\n      \"column\": \"Title\",\n      \"properties\": {\n        \"dtype\": \"string\",\n        \"num_unique_values\": 776,\n        \"samples\": [\n          \"RGN Staff Nurse  Cardiff\",\n          \"Senior C/ASP/net Software Developer Amigo Loans\",\n          \"Graduate Pricing Analyst\"\n        ],\n        \"semantic_type\": \"\",\n        \"description\": \"\"\n      }\n    },\n    {\n      \"column\": \"Webindex\",\n      \"properties\": {\n        \"dtype\": \"number\",\n        \"std\": 4051059,\n        \"min\": 46626933,\n        \"max\": 72702961,\n        \"num_unique_values\": 776,\n        \"samples\": [\n          71090289,\n          68678435,\n          72702961\n        ],\n        \"semantic_type\": \"\",\n        \"description\": \"\"\n      }\n    },\n    {\n      \"column\": \"Company\",\n      \"properties\": {\n        \"dtype\": \"string\",\n        \"num_unique_values\": 511,\n        \"samples\": [\n          \"JJ FOX\",\n          \"Prospero Recruitment\",\n          \"Hays Credit Management\"\n        ],\n        \"semantic_type\": \"\",\n        \"description\": \"\"\n      }\n    },\n    {\n      \"column\": \"Description\",\n      \"properties\": {\n        \"dtype\": \"string\",\n        \"num_unique_values\": 776,\n        \"samples\": [\n          \"rgn newport hour small group nursing homes south wales area dedicated providing highest level residents pride standard homes recruiting rgn bed nursing area located cardiff newport reporting clinical lead registered responsible day day residents main responsibilities include administering medication report make requests doctors professional visits ensuring plans completed maintained accordance nmc guidelines homes policies maintain accurate records user individualised plan carry regular checks users intervals determined clinical registered general nurse similar setting ideal genuine interest elderly relate elderly people return receive generous benefits package ongoing career opportunities\",\n          \"package pa doe bonuses benefits package amigo loans part richmond group innovative lending businesses year period richmond group delivered performance focused products awardwinning employee amigo brand loan simple idea friends trust talented developers complement software building deliver ground breaking solutions proud ll technical skilled enthusiastic challenge industry standard days developer daytoday depending teams agile scrum environment projects vary web backend database solutions ll flexible ready approach challenges armed original innovative ideas mvc entity framework preferred ll developing complete software solutions asp net sql requirements analysis specification planning performing unit testing system testing problem solving line closely partners endusers offer return performance profit bonuses health insurance budget stakeholder pension birthdays subsidised gym membership extra day holiday year fantastic subsidised vending machines annual trip charity climb free iphone originally posted www totaljobs jobseeking\",\n          \"graduate pricing analyst market organisation prospects earn incredible entry level travel globe basic additional benefits bonus contributory pension days holiday generous bonus scheme linked individual performance location commutable locations oxford aylesbury slough reading uxbridge hemel hempstead west london postcode hp profile established decade world leader providing pharmaceutical industry range critical research products include top pharmaceutical organisations startup businesses globe consultancy range forecasting pricing international pricing marketing backed relevant evidence models due growth seek talented players continued success specification graduate pricing analyst joining alongside dynamic innovative highly intelligent forecasting pricing programs consultancy recognised pharmaceutical organisations world alongside passion numbers ll commercial acumen highlight potential risk responsible tasks produce forecast models covering aspects pharmaceutical industry include forecasts pricing strategy international pricing effect trade risk analysis translate requirements workable briefs cutting edge forecasting technologies developed house alongside ms excel programming produce bespoke forecast models profile quickly develop understanding suite forecasting pricing methodologies technologies document project manage creation forecasting pricing models tools produce manage quality detail provided continuously develop innovative forecasting methodologies create detailed proposals wins commissioning setting running requirements graduate pricing analyst ideally gained bachelor degree higher sciences medical sciences life sciences biology chemical biology life sciences interface biology sciences medicine clinical medicine public health possess passion pharmaceuticals wider pharmaceutical industry grasp mathematics basic statistics prepared travel europe usa highly organised plan ahead hold concentration extended periods time track record standard projects whilst integral part highly motivated intellectual computer literate excel powerpoint word simple spreadsheet modelling communicator english written verbal prospects graduate pricing analyst develop believes strongly personal professional employees ongoing program designed develop promote individuals maximum potential interested interested hearing instance email richard quoting graduate pricing analyst reference kd aptrack ddi wallace hind selection vicarage duston northants nn jb url removed\"\n        ],\n        \"semantic_type\": \"\",\n        \"description\": \"\"\n      }\n    }\n  ]\n}"
            }
          },
          "metadata": {},
          "execution_count": 31
        }
      ],
      "source": [
        "descriptions = pd.read_json('/content/drive/MyDrive/Natural Language Processing/Assignment5_Solution/preprocessed_ads.json')\n",
        "descriptions.head()"
      ]
    },
    {
      "cell_type": "code",
      "execution_count": null,
      "metadata": {
        "colab": {
          "base_uri": "https://localhost:8080/",
          "height": 122
        },
        "id": "lpfQAsO7c2y7",
        "outputId": "8bd4dbe4-5fdd-4944-e98e-0da8768db3a2"
      },
      "outputs": [
        {
          "output_type": "execute_result",
          "data": {
            "text/plain": [
              "'#72635560, 12:2, 200:1, 260:1, 482:1, 504:2, 645:1, 681:1, 755:2, 1045:1, 1052:1, 1176:2, 1199:1, 1203:2, 1316:1, 1448:4, 1504:1, 1527:3, 1532:1, 1533:1, 1534:2, 1711:1, 1735:1, 1768:1, 1809:1, 1844:1, 1980:1, 2018:1, 2079:1, 2201:1, 2202:1, 2239:1, 2368:1, 2370:1, 2415:2, 2457:1, 2641:1, 2782:1, 2784:1, 2799:3, 2823:1, 2828:2, 2884:2, 2976:1, 3034:5, 3187:1, 3213:1, 3315:1, 3354:1, 3435:1, 3482:1, 3492:1, 3510:1, 3700:3, 3843:1, 3948:1, 3962:1, 3970:2, 3987:1, 4115:1, 4250:2, 4266:2, 4338:3, 4431:2, 4451:1, 4541:1, 4680:2, 4681:1, 4682:1, 4918:1, 4948:1, 5000:1, 5057:1'"
            ],
            "application/vnd.google.colaboratory.intrinsic+json": {
              "type": "string"
            }
          },
          "metadata": {},
          "execution_count": 32
        }
      ],
      "source": [
        "count_vectors = []\n",
        "for _, row in descriptions.iterrows():\n",
        "    webindex = row['Webindex']\n",
        "    description = row['Description']\n",
        "    word_freq = generate_count_vector(description, vocabulary)\n",
        "    count_vector = f\"#{webindex}, \" + \", \".join([f\"{idx}:{freq}\" for idx, freq in sorted(word_freq.items())])\n",
        "    count_vectors.append(count_vector)\n",
        "count_vectors[0]"
      ]
    },
    {
      "cell_type": "code",
      "execution_count": null,
      "metadata": {
        "id": "EKm04q_vS7Df"
      },
      "outputs": [],
      "source": [
        "with open('/content/drive/MyDrive/Natural Language Processing/Assignment5_Solution/count_vectors.txt', 'w') as file:\n",
        "    for count_vector in count_vectors:\n",
        "        file.write(count_vector + \"\\n\")"
      ]
    },
    {
      "cell_type": "markdown",
      "source": [
        "Step 2: Generate Weighted and Unweighted Word Embeddings using Word2Vec model"
      ],
      "metadata": {
        "id": "j8sD9MwVbWz7"
      }
    },
    {
      "cell_type": "code",
      "execution_count": null,
      "metadata": {
        "colab": {
          "base_uri": "https://localhost:8080/"
        },
        "id": "orXyQJ0wZo3Z",
        "outputId": "8c179e58-7b7b-499d-bb9f-8c9a43091a48"
      },
      "outputs": [
        {
          "output_type": "stream",
          "name": "stdout",
          "text": [
            "[==================================================] 100.0% 1662.8/1662.8MB downloaded\n"
          ]
        }
      ],
      "source": [
        "import gensim.downloader as api\n",
        "word2vec_model = api.load('word2vec-google-news-300')"
      ]
    },
    {
      "cell_type": "code",
      "source": [
        "def preprocess(text):\n",
        "    doc = nlp(text.lower())\n",
        "    return [token.text for token in doc if token.is_alpha]"
      ],
      "metadata": {
        "id": "Qo5U512yT57C"
      },
      "execution_count": null,
      "outputs": []
    },
    {
      "cell_type": "code",
      "execution_count": null,
      "metadata": {
        "id": "npNWOm1TcjPD",
        "colab": {
          "base_uri": "https://localhost:8080/",
          "height": 248
        },
        "outputId": "9550ac2a-3b27-4032-e4e3-66a87e04fa51"
      },
      "outputs": [
        {
          "output_type": "execute_result",
          "data": {
            "text/plain": [
              "TfidfVectorizer(vocabulary={'aap': 0, 'aaron': 1, 'aat': 2, 'abb': 3,\n",
              "                            'abenefit': 4, 'aberdeen': 5, 'abi': 6,\n",
              "                            'abilities': 7, 'abreast': 8, 'abroad': 9,\n",
              "                            'absence': 10, 'absolute': 11, 'ac': 12, 'aca': 13,\n",
              "                            'academic': 14, 'academy': 15, 'acca': 16,\n",
              "                            'accept': 17, 'acceptable': 18, 'acceptance': 19,\n",
              "                            'accepted': 20, 'access': 21, 'accessible': 22,\n",
              "                            'accident': 23, 'accommodates': 24,\n",
              "                            'accommodation': 25, 'accomplished': 26,\n",
              "                            'accordance': 27, 'account': 28,\n",
              "                            'accountabilities': 29, ...})"
            ],
            "text/html": [
              "<style>#sk-container-id-1 {color: black;background-color: white;}#sk-container-id-1 pre{padding: 0;}#sk-container-id-1 div.sk-toggleable {background-color: white;}#sk-container-id-1 label.sk-toggleable__label {cursor: pointer;display: block;width: 100%;margin-bottom: 0;padding: 0.3em;box-sizing: border-box;text-align: center;}#sk-container-id-1 label.sk-toggleable__label-arrow:before {content: \"▸\";float: left;margin-right: 0.25em;color: #696969;}#sk-container-id-1 label.sk-toggleable__label-arrow:hover:before {color: black;}#sk-container-id-1 div.sk-estimator:hover label.sk-toggleable__label-arrow:before {color: black;}#sk-container-id-1 div.sk-toggleable__content {max-height: 0;max-width: 0;overflow: hidden;text-align: left;background-color: #f0f8ff;}#sk-container-id-1 div.sk-toggleable__content pre {margin: 0.2em;color: black;border-radius: 0.25em;background-color: #f0f8ff;}#sk-container-id-1 input.sk-toggleable__control:checked~div.sk-toggleable__content {max-height: 200px;max-width: 100%;overflow: auto;}#sk-container-id-1 input.sk-toggleable__control:checked~label.sk-toggleable__label-arrow:before {content: \"▾\";}#sk-container-id-1 div.sk-estimator input.sk-toggleable__control:checked~label.sk-toggleable__label {background-color: #d4ebff;}#sk-container-id-1 div.sk-label input.sk-toggleable__control:checked~label.sk-toggleable__label {background-color: #d4ebff;}#sk-container-id-1 input.sk-hidden--visually {border: 0;clip: rect(1px 1px 1px 1px);clip: rect(1px, 1px, 1px, 1px);height: 1px;margin: -1px;overflow: hidden;padding: 0;position: absolute;width: 1px;}#sk-container-id-1 div.sk-estimator {font-family: monospace;background-color: #f0f8ff;border: 1px dotted black;border-radius: 0.25em;box-sizing: border-box;margin-bottom: 0.5em;}#sk-container-id-1 div.sk-estimator:hover {background-color: #d4ebff;}#sk-container-id-1 div.sk-parallel-item::after {content: \"\";width: 100%;border-bottom: 1px solid gray;flex-grow: 1;}#sk-container-id-1 div.sk-label:hover label.sk-toggleable__label {background-color: #d4ebff;}#sk-container-id-1 div.sk-serial::before {content: \"\";position: absolute;border-left: 1px solid gray;box-sizing: border-box;top: 0;bottom: 0;left: 50%;z-index: 0;}#sk-container-id-1 div.sk-serial {display: flex;flex-direction: column;align-items: center;background-color: white;padding-right: 0.2em;padding-left: 0.2em;position: relative;}#sk-container-id-1 div.sk-item {position: relative;z-index: 1;}#sk-container-id-1 div.sk-parallel {display: flex;align-items: stretch;justify-content: center;background-color: white;position: relative;}#sk-container-id-1 div.sk-item::before, #sk-container-id-1 div.sk-parallel-item::before {content: \"\";position: absolute;border-left: 1px solid gray;box-sizing: border-box;top: 0;bottom: 0;left: 50%;z-index: -1;}#sk-container-id-1 div.sk-parallel-item {display: flex;flex-direction: column;z-index: 1;position: relative;background-color: white;}#sk-container-id-1 div.sk-parallel-item:first-child::after {align-self: flex-end;width: 50%;}#sk-container-id-1 div.sk-parallel-item:last-child::after {align-self: flex-start;width: 50%;}#sk-container-id-1 div.sk-parallel-item:only-child::after {width: 0;}#sk-container-id-1 div.sk-dashed-wrapped {border: 1px dashed gray;margin: 0 0.4em 0.5em 0.4em;box-sizing: border-box;padding-bottom: 0.4em;background-color: white;}#sk-container-id-1 div.sk-label label {font-family: monospace;font-weight: bold;display: inline-block;line-height: 1.2em;}#sk-container-id-1 div.sk-label-container {text-align: center;}#sk-container-id-1 div.sk-container {/* jupyter's `normalize.less` sets `[hidden] { display: none; }` but bootstrap.min.css set `[hidden] { display: none !important; }` so we also need the `!important` here to be able to override the default hidden behavior on the sphinx rendered scikit-learn.org. See: https://github.com/scikit-learn/scikit-learn/issues/21755 */display: inline-block !important;position: relative;}#sk-container-id-1 div.sk-text-repr-fallback {display: none;}</style><div id=\"sk-container-id-1\" class=\"sk-top-container\"><div class=\"sk-text-repr-fallback\"><pre>TfidfVectorizer(vocabulary={&#x27;aap&#x27;: 0, &#x27;aaron&#x27;: 1, &#x27;aat&#x27;: 2, &#x27;abb&#x27;: 3,\n",
              "                            &#x27;abenefit&#x27;: 4, &#x27;aberdeen&#x27;: 5, &#x27;abi&#x27;: 6,\n",
              "                            &#x27;abilities&#x27;: 7, &#x27;abreast&#x27;: 8, &#x27;abroad&#x27;: 9,\n",
              "                            &#x27;absence&#x27;: 10, &#x27;absolute&#x27;: 11, &#x27;ac&#x27;: 12, &#x27;aca&#x27;: 13,\n",
              "                            &#x27;academic&#x27;: 14, &#x27;academy&#x27;: 15, &#x27;acca&#x27;: 16,\n",
              "                            &#x27;accept&#x27;: 17, &#x27;acceptable&#x27;: 18, &#x27;acceptance&#x27;: 19,\n",
              "                            &#x27;accepted&#x27;: 20, &#x27;access&#x27;: 21, &#x27;accessible&#x27;: 22,\n",
              "                            &#x27;accident&#x27;: 23, &#x27;accommodates&#x27;: 24,\n",
              "                            &#x27;accommodation&#x27;: 25, &#x27;accomplished&#x27;: 26,\n",
              "                            &#x27;accordance&#x27;: 27, &#x27;account&#x27;: 28,\n",
              "                            &#x27;accountabilities&#x27;: 29, ...})</pre><b>In a Jupyter environment, please rerun this cell to show the HTML representation or trust the notebook. <br />On GitHub, the HTML representation is unable to render, please try loading this page with nbviewer.org.</b></div><div class=\"sk-container\" hidden><div class=\"sk-item\"><div class=\"sk-estimator sk-toggleable\"><input class=\"sk-toggleable__control sk-hidden--visually\" id=\"sk-estimator-id-1\" type=\"checkbox\" checked><label for=\"sk-estimator-id-1\" class=\"sk-toggleable__label sk-toggleable__label-arrow\">TfidfVectorizer</label><div class=\"sk-toggleable__content\"><pre>TfidfVectorizer(vocabulary={&#x27;aap&#x27;: 0, &#x27;aaron&#x27;: 1, &#x27;aat&#x27;: 2, &#x27;abb&#x27;: 3,\n",
              "                            &#x27;abenefit&#x27;: 4, &#x27;aberdeen&#x27;: 5, &#x27;abi&#x27;: 6,\n",
              "                            &#x27;abilities&#x27;: 7, &#x27;abreast&#x27;: 8, &#x27;abroad&#x27;: 9,\n",
              "                            &#x27;absence&#x27;: 10, &#x27;absolute&#x27;: 11, &#x27;ac&#x27;: 12, &#x27;aca&#x27;: 13,\n",
              "                            &#x27;academic&#x27;: 14, &#x27;academy&#x27;: 15, &#x27;acca&#x27;: 16,\n",
              "                            &#x27;accept&#x27;: 17, &#x27;acceptable&#x27;: 18, &#x27;acceptance&#x27;: 19,\n",
              "                            &#x27;accepted&#x27;: 20, &#x27;access&#x27;: 21, &#x27;accessible&#x27;: 22,\n",
              "                            &#x27;accident&#x27;: 23, &#x27;accommodates&#x27;: 24,\n",
              "                            &#x27;accommodation&#x27;: 25, &#x27;accomplished&#x27;: 26,\n",
              "                            &#x27;accordance&#x27;: 27, &#x27;account&#x27;: 28,\n",
              "                            &#x27;accountabilities&#x27;: 29, ...})</pre></div></div></div></div></div>"
            ]
          },
          "metadata": {},
          "execution_count": 17
        }
      ],
      "source": [
        "sentences = [preprocess(desc) for desc in descriptions['Description']]\n",
        "word2vec_model = gensim.models.Word2Vec(sentences, vector_size=100, window=5, min_count=1, workers=4)\n",
        "\n",
        "# Fit TF-IDF Vectorizer\n",
        "tfidf = TfidfVectorizer(vocabulary=vocabulary)\n",
        "tfidf.fit(descriptions['Description'])"
      ]
    },
    {
      "cell_type": "code",
      "execution_count": null,
      "metadata": {
        "id": "23mzpfcY0TDc"
      },
      "outputs": [],
      "source": [
        "def get_word2vec_vector(description, model, vocab, tfidf=None):\n",
        "    doc = preprocess(description)\n",
        "    word_vecs = []\n",
        "    for word in doc:\n",
        "        if word in vocab:\n",
        "            vec = model.wv[word]\n",
        "            if tfidf:\n",
        "                tfidf_weight = tfidf[word]\n",
        "                vec = vec * tfidf_weight\n",
        "            word_vecs.append(vec)\n",
        "    if word_vecs:\n",
        "        return np.mean(word_vecs, axis=0)\n",
        "    else:\n",
        "        return np.zeros(model.vector_size)"
      ]
    },
    {
      "cell_type": "code",
      "execution_count": null,
      "metadata": {
        "id": "vcc4Gf040ceN"
      },
      "outputs": [],
      "source": [
        "unweighted_vectors = []\n",
        "weighted_vectors = []\n",
        "\n",
        "for index, row in descriptions.iterrows():\n",
        "    webindex = row['Webindex']\n",
        "    description = row['Description']\n",
        "    tfidf_weights = dict(zip(tfidf.get_feature_names_out(), tfidf.transform([description]).toarray()[0]))\n",
        "\n",
        "    unweighted_vector = get_word2vec_vector(description, word2vec_model, vocabulary)\n",
        "    weighted_vector = get_word2vec_vector(description, word2vec_model, vocabulary, tfidf_weights)\n",
        "\n",
        "    unweighted_vectors.append((webindex, unweighted_vector))\n",
        "    weighted_vectors.append((webindex, weighted_vector))"
      ]
    },
    {
      "cell_type": "code",
      "source": [
        "weighted_vectors[0]"
      ],
      "metadata": {
        "colab": {
          "base_uri": "https://localhost:8080/"
        },
        "id": "e7VAzzGJVD9f",
        "outputId": "54fc1485-a9f4-40dd-d572-8fd8fbf78e3b"
      },
      "execution_count": null,
      "outputs": [
        {
          "output_type": "execute_result",
          "data": {
            "text/plain": [
              "(72635560,\n",
              " array([-0.01938217,  0.02888812,  0.0147196 ,  0.01519088,  0.02063204,\n",
              "        -0.05110238,  0.00954569,  0.05143294, -0.01195538,  0.00425034,\n",
              "        -0.02993809, -0.0383443 , -0.00118716,  0.02601862,  0.02108623,\n",
              "        -0.01818527,  0.00172959, -0.05671785, -0.00125092, -0.05510456,\n",
              "         0.01397065,  0.01433711,  0.01429488, -0.01812237, -0.0024076 ,\n",
              "        -0.01230301, -0.02580633, -0.01791485, -0.038394  ,  0.00482546,\n",
              "         0.05204249,  0.00064438, -0.0160452 , -0.01460527,  0.01343647,\n",
              "         0.02544964,  0.00657236, -0.02436119, -0.00518897, -0.08859646,\n",
              "        -0.02826651, -0.02573142, -0.00913762,  0.01628468,  0.01090103,\n",
              "        -0.00531892, -0.02941119,  0.01011622, -0.00370406,  0.01583062,\n",
              "         0.02570469, -0.01824846, -0.01634352,  0.01394244, -0.01642079,\n",
              "         0.00385342,  0.03158551, -0.00428701, -0.05154535, -0.00316447,\n",
              "        -0.00442164,  0.01844074, -0.04193947,  0.00875109, -0.03944056,\n",
              "         0.02268142,  0.0019424 ,  0.02029173, -0.0263316 ,  0.04750506,\n",
              "        -0.03230353, -0.00205407,  0.02120064, -0.01040501,  0.02378296,\n",
              "         0.00586055, -0.00146773, -0.00044337, -0.02767612,  0.00836833,\n",
              "        -0.01336062, -0.00330981, -0.03336413,  0.03725392, -0.02149856,\n",
              "         0.00925088, -0.00649596,  0.0409709 ,  0.02057448,  0.00544287,\n",
              "         0.04800231,  0.00090341, -0.01698499,  0.01569913,  0.04894012,\n",
              "         0.04612063,  0.02847015, -0.02284787,  0.00256114, -0.01027352],\n",
              "       dtype=float32))"
            ]
          },
          "metadata": {},
          "execution_count": 22
        }
      ]
    },
    {
      "cell_type": "code",
      "source": [
        "unweighted_vectors[0]"
      ],
      "metadata": {
        "colab": {
          "base_uri": "https://localhost:8080/"
        },
        "id": "RE4CCJs8VUG5",
        "outputId": "d70cbf14-cf2a-4182-8d89-3585765301e9"
      },
      "execution_count": null,
      "outputs": [
        {
          "output_type": "execute_result",
          "data": {
            "text/plain": [
              "(72635560,\n",
              " array([-0.19557409,  0.2963686 ,  0.14507405,  0.15054792,  0.2149704 ,\n",
              "        -0.51802593,  0.09807508,  0.53277284, -0.11302419,  0.03250095,\n",
              "        -0.29068333, -0.38897678, -0.014274  ,  0.26512623,  0.21947691,\n",
              "        -0.18154569,  0.02229173, -0.57235825, -0.0184817 , -0.5610179 ,\n",
              "         0.14199452,  0.14119534,  0.14818226, -0.18308073, -0.02961441,\n",
              "        -0.12412178, -0.256904  , -0.18588604, -0.38870522,  0.05013752,\n",
              "         0.5203427 , -0.00170244, -0.15800828, -0.15386477,  0.13448286,\n",
              "         0.26267576,  0.0709855 , -0.25161543, -0.05869814, -0.8890644 ,\n",
              "        -0.28155988, -0.26170054, -0.08959787,  0.1584724 ,  0.12599689,\n",
              "        -0.05821666, -0.29773456,  0.10016868, -0.03220515,  0.16988215,\n",
              "         0.25919285, -0.19287044, -0.1674825 ,  0.13462926, -0.16617745,\n",
              "         0.03486444,  0.3236793 , -0.0331192 , -0.5220134 , -0.03141237,\n",
              "        -0.04559215,  0.18895474, -0.42297697,  0.09346086, -0.39689425,\n",
              "         0.22818363,  0.01521933,  0.21864545, -0.271281  ,  0.47292104,\n",
              "        -0.3235413 , -0.02342878,  0.22627772, -0.10204607,  0.2431482 ,\n",
              "         0.05292562, -0.02198828, -0.00325706, -0.27940267,  0.08615053,\n",
              "        -0.1407575 , -0.03875246, -0.33800277,  0.38282046, -0.21046849,\n",
              "         0.09464055, -0.06058949,  0.41848248,  0.2140384 ,  0.0576745 ,\n",
              "         0.4845834 ,  0.01088524, -0.16323224,  0.15472437,  0.5020043 ,\n",
              "         0.46975863,  0.29266387, -0.23218212,  0.02390311, -0.10414373],\n",
              "       dtype=float32))"
            ]
          },
          "metadata": {},
          "execution_count": 23
        }
      ]
    },
    {
      "cell_type": "code",
      "source": [
        "def save_vectors(vectors, filename):\n",
        "    with open(filename, 'w') as file:\n",
        "        for webindex, vector in vectors:\n",
        "            sparse_representation = \", \".join([f\"{i}:{v}\" for i, v in enumerate(vector) if v != 0])\n",
        "            file.write(f\"#{webindex}, {sparse_representation}\\n\")"
      ],
      "metadata": {
        "id": "Y5pf3yzKWgLU"
      },
      "execution_count": null,
      "outputs": []
    },
    {
      "cell_type": "code",
      "execution_count": null,
      "metadata": {
        "id": "-0jMbljB0t46"
      },
      "outputs": [],
      "source": [
        "# Save unweighted vectors to a file\n",
        "save_vectors(unweighted_vectors, '/content/drive/MyDrive/Natural Language Processing/Assignment5_Solution/unweighted_vectors.txt')\n",
        "# Save weighted vectors to a file\n",
        "save_vectors(weighted_vectors, '/content/drive/MyDrive/Natural Language Processing/Assignment5_Solution/weighted_vectors.txt')"
      ]
    }
  ],
  "metadata": {
    "colab": {
      "provenance": []
    },
    "kernelspec": {
      "display_name": "Python 3",
      "name": "python3"
    },
    "language_info": {
      "name": "python"
    }
  },
  "nbformat": 4,
  "nbformat_minor": 0
}