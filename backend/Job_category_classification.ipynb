{
 "cells": [
  {
   "cell_type": "code",
   "execution_count": 1,
   "id": "86c1b9ed",
   "metadata": {},
   "outputs": [],
   "source": [
    "from joblib import load"
   ]
  },
  {
   "cell_type": "code",
   "execution_count": 2,
   "id": "3af88a87",
   "metadata": {},
   "outputs": [],
   "source": [
    "loaded_model=load('SVC_tfidf_model.joblib')"
   ]
  },
  {
   "cell_type": "code",
   "execution_count": 4,
   "id": "9fdce270",
   "metadata": {},
   "outputs": [
    {
     "data": {
      "text/html": [
       "<div>\n",
       "<style scoped>\n",
       "    .dataframe tbody tr th:only-of-type {\n",
       "        vertical-align: middle;\n",
       "    }\n",
       "\n",
       "    .dataframe tbody tr th {\n",
       "        vertical-align: top;\n",
       "    }\n",
       "\n",
       "    .dataframe thead th {\n",
       "        text-align: right;\n",
       "    }\n",
       "</style>\n",
       "<table border=\"1\" class=\"dataframe\">\n",
       "  <thead>\n",
       "    <tr style=\"text-align: right;\">\n",
       "      <th></th>\n",
       "      <th>Category</th>\n",
       "      <th>Title</th>\n",
       "      <th>Webindex</th>\n",
       "      <th>Company</th>\n",
       "      <th>Description</th>\n",
       "    </tr>\n",
       "  </thead>\n",
       "  <tbody>\n",
       "    <tr>\n",
       "      <th>0</th>\n",
       "      <td>Sales</td>\n",
       "      <td>Sales Representative - Regional Accounts</td>\n",
       "      <td>72635563</td>\n",
       "      <td>National Sales Corp</td>\n",
       "      <td>sales representative regional accounts client ...</td>\n",
       "    </tr>\n",
       "    <tr>\n",
       "      <th>1</th>\n",
       "      <td>Engineering</td>\n",
       "      <td>Mechanical Design Engineer</td>\n",
       "      <td>72635560</td>\n",
       "      <td>Innovative Engineering Solutions</td>\n",
       "      <td>mechanical design engineer responsible develop...</td>\n",
       "    </tr>\n",
       "    <tr>\n",
       "      <th>2</th>\n",
       "      <td>Accounting_Finance</td>\n",
       "      <td>Senior Financial Analyst</td>\n",
       "      <td>72635562</td>\n",
       "      <td>Global Financial Services</td>\n",
       "      <td>senior financial analyst budgeting forecasting...</td>\n",
       "    </tr>\n",
       "    <tr>\n",
       "      <th>3</th>\n",
       "      <td>Healthcare_Nursing</td>\n",
       "      <td>Registered Nurse - Intensive Care Unit</td>\n",
       "      <td>72635561</td>\n",
       "      <td>Healthcare Professionals</td>\n",
       "      <td>registered nurse icu intensive care unit criti...</td>\n",
       "    </tr>\n",
       "  </tbody>\n",
       "</table>\n",
       "</div>"
      ],
      "text/plain": [
       "             Category                                     Title  Webindex  \\\n",
       "0               Sales  Sales Representative - Regional Accounts  72635563   \n",
       "1         Engineering                Mechanical Design Engineer  72635560   \n",
       "2  Accounting_Finance                  Senior Financial Analyst  72635562   \n",
       "3  Healthcare_Nursing    Registered Nurse - Intensive Care Unit  72635561   \n",
       "\n",
       "                            Company  \\\n",
       "0               National Sales Corp   \n",
       "1  Innovative Engineering Solutions   \n",
       "2         Global Financial Services   \n",
       "3          Healthcare Professionals   \n",
       "\n",
       "                                         Description  \n",
       "0  sales representative regional accounts client ...  \n",
       "1  mechanical design engineer responsible develop...  \n",
       "2  senior financial analyst budgeting forecasting...  \n",
       "3  registered nurse icu intensive care unit criti...  "
      ]
     },
     "execution_count": 4,
     "metadata": {},
     "output_type": "execute_result"
    }
   ],
   "source": [
    "import pandas as pd\n",
    "\n",
    "# Example job posts\n",
    "data = [\n",
    "    {\n",
    "        \"Category\": \"Sales\",\n",
    "        \"Title\": \"Sales Representative - Regional Accounts\",\n",
    "        \"Webindex\": \"72635563\",\n",
    "        \"Company\": \"National Sales Corp\",\n",
    "        \"Description\": \"sales representative regional accounts client relationship management territory sales target achievement lead generation product demonstrations customer feedback market analysis sales strategy teamwork communication skills minimum bachelor business administration bba proven sales track record regional sales national sales corp career opportunity benefits package apply send resume visit website url removed\"\n",
    "    },\n",
    "    {\n",
    "        \"Category\": \"Engineering\",\n",
    "        \"Title\": \"Mechanical Design Engineer\",\n",
    "        \"Webindex\": \"72635560\",\n",
    "        \"Company\": \"Innovative Engineering Solutions\",\n",
    "        \"Description\": \"mechanical design engineer responsible developing innovative mechanical systems solutions collaborate cross functional teams ensure product quality efficiency extensive knowledge cad software solidworks autocad experience mechanical design analysis simulation stress testing required minimum bachelor's degree mechanical engineering strong problem solving communication skills competitive salary benefits package apply send resume company email visit website\"\n",
    "    },\n",
    "    {\n",
    "        \"Category\": \"Accounting_Finance\",\n",
    "        \"Title\": \"Senior Financial Analyst\",\n",
    "        \"Webindex\": \"72635562\",\n",
    "        \"Company\": \"Global Financial Services\",\n",
    "        \"Description\": \"senior financial analyst budgeting forecasting financial planning reporting financial statements variance analysis accounting gaap regulations financial modeling investment analysis strategic planning teamwork leadership skills excel sap minimum cpa mba preferred financial services global company structured benefits package send resume apply position online visit website url removed\"\n",
    "    },\n",
    "    {\n",
    "        \"Category\": \"Healthcare_Nursing\",\n",
    "        \"Title\": \"Registered Nurse - Intensive Care Unit\",\n",
    "        \"Webindex\": \"72635561\",\n",
    "        \"Company\": \"Healthcare Professionals\",\n",
    "        \"Description\": \"registered nurse icu intensive care unit critical patient monitoring vital signs administering medications patient care plans healthcare professionals team environment shift rotations extensive benefits experience icu nursing registered nurse license state requirements minimum bachelor nursing bsn apply position send cv email website contact online healthcare professionals url removed\"\n",
    "    }\n",
    "]\n",
    "\n",
    "# Create DataFrame\n",
    "df_examples = pd.DataFrame(data)\n",
    "\n",
    "# Display DataFrame\n",
    "df_examples"
   ]
  },
  {
   "cell_type": "code",
   "execution_count": 5,
   "id": "0b47517d",
   "metadata": {},
   "outputs": [],
   "source": [
    "import spacy\n",
    "\n",
    "# load english language model and create nlp object from it\n",
    "nlp = spacy.load(\"en_core_web_sm\")\n",
    "\n",
    "def preprocess(text):\n",
    "    # remove stop words and lemmatize the text\n",
    "    doc = nlp(text)\n",
    "    filtered_tokens = []\n",
    "    for token in doc:\n",
    "        if token.is_stop or token.is_punct:\n",
    "            continue\n",
    "        filtered_tokens.append(token.lemma_)\n",
    "\n",
    "    return \" \".join(filtered_tokens)"
   ]
  },
  {
   "cell_type": "code",
   "execution_count": 6,
   "id": "51f69d2c",
   "metadata": {},
   "outputs": [],
   "source": [
    "def preprocess_title(text):\n",
    "    # remove stop words and lemmatize the text\n",
    "    doc = nlp(text)\n",
    "    filtered_tokens = []\n",
    "    for token in doc:\n",
    "        if token.is_stop or token.is_punct:\n",
    "            continue\n",
    "        filtered_tokens.append(token.lemma_.lower())\n",
    "\n",
    "    return \" \".join(filtered_tokens)"
   ]
  },
  {
   "cell_type": "code",
   "execution_count": 7,
   "id": "02150c69",
   "metadata": {},
   "outputs": [],
   "source": [
    "df_examples['Preprocessed_Description'] = df_examples['Description'].apply(preprocess)"
   ]
  },
  {
   "cell_type": "code",
   "execution_count": 8,
   "id": "8ac78045",
   "metadata": {},
   "outputs": [],
   "source": [
    "df_examples['Preprocessed_Title'] = df_examples['Title'].apply(preprocess_title)"
   ]
  },
  {
   "cell_type": "code",
   "execution_count": 9,
   "id": "7d91cad8",
   "metadata": {},
   "outputs": [],
   "source": [
    "df_examples['Preprocessed_Title_Description']=df_examples['Preprocessed_Title']+ \" \" + df_examples['Preprocessed_Description']"
   ]
  },
  {
   "cell_type": "code",
   "execution_count": 10,
   "id": "c229f145",
   "metadata": {},
   "outputs": [
    {
     "data": {
      "text/html": [
       "<div>\n",
       "<style scoped>\n",
       "    .dataframe tbody tr th:only-of-type {\n",
       "        vertical-align: middle;\n",
       "    }\n",
       "\n",
       "    .dataframe tbody tr th {\n",
       "        vertical-align: top;\n",
       "    }\n",
       "\n",
       "    .dataframe thead th {\n",
       "        text-align: right;\n",
       "    }\n",
       "</style>\n",
       "<table border=\"1\" class=\"dataframe\">\n",
       "  <thead>\n",
       "    <tr style=\"text-align: right;\">\n",
       "      <th></th>\n",
       "      <th>Category</th>\n",
       "      <th>Title</th>\n",
       "      <th>Webindex</th>\n",
       "      <th>Company</th>\n",
       "      <th>Description</th>\n",
       "      <th>Preprocessed_Description</th>\n",
       "      <th>Preprocessed_Title</th>\n",
       "      <th>Preprocessed_Title_Description</th>\n",
       "    </tr>\n",
       "  </thead>\n",
       "  <tbody>\n",
       "    <tr>\n",
       "      <th>0</th>\n",
       "      <td>Sales</td>\n",
       "      <td>Sales Representative - Regional Accounts</td>\n",
       "      <td>72635563</td>\n",
       "      <td>National Sales Corp</td>\n",
       "      <td>sales representative regional accounts client ...</td>\n",
       "      <td>sale representative regional account client re...</td>\n",
       "      <td>sale representative regional accounts</td>\n",
       "      <td>sale representative regional accounts sale rep...</td>\n",
       "    </tr>\n",
       "    <tr>\n",
       "      <th>1</th>\n",
       "      <td>Engineering</td>\n",
       "      <td>Mechanical Design Engineer</td>\n",
       "      <td>72635560</td>\n",
       "      <td>Innovative Engineering Solutions</td>\n",
       "      <td>mechanical design engineer responsible develop...</td>\n",
       "      <td>mechanical design engineer responsible develop...</td>\n",
       "      <td>mechanical design engineer</td>\n",
       "      <td>mechanical design engineer mechanical design e...</td>\n",
       "    </tr>\n",
       "    <tr>\n",
       "      <th>2</th>\n",
       "      <td>Accounting_Finance</td>\n",
       "      <td>Senior Financial Analyst</td>\n",
       "      <td>72635562</td>\n",
       "      <td>Global Financial Services</td>\n",
       "      <td>senior financial analyst budgeting forecasting...</td>\n",
       "      <td>senior financial analyst budgeting forecast fi...</td>\n",
       "      <td>senior financial analyst</td>\n",
       "      <td>senior financial analyst senior financial anal...</td>\n",
       "    </tr>\n",
       "    <tr>\n",
       "      <th>3</th>\n",
       "      <td>Healthcare_Nursing</td>\n",
       "      <td>Registered Nurse - Intensive Care Unit</td>\n",
       "      <td>72635561</td>\n",
       "      <td>Healthcare Professionals</td>\n",
       "      <td>registered nurse icu intensive care unit criti...</td>\n",
       "      <td>register nurse icu intensive care unit critica...</td>\n",
       "      <td>registered nurse intensive care unit</td>\n",
       "      <td>registered nurse intensive care unit register ...</td>\n",
       "    </tr>\n",
       "  </tbody>\n",
       "</table>\n",
       "</div>"
      ],
      "text/plain": [
       "             Category                                     Title  Webindex  \\\n",
       "0               Sales  Sales Representative - Regional Accounts  72635563   \n",
       "1         Engineering                Mechanical Design Engineer  72635560   \n",
       "2  Accounting_Finance                  Senior Financial Analyst  72635562   \n",
       "3  Healthcare_Nursing    Registered Nurse - Intensive Care Unit  72635561   \n",
       "\n",
       "                            Company  \\\n",
       "0               National Sales Corp   \n",
       "1  Innovative Engineering Solutions   \n",
       "2         Global Financial Services   \n",
       "3          Healthcare Professionals   \n",
       "\n",
       "                                         Description  \\\n",
       "0  sales representative regional accounts client ...   \n",
       "1  mechanical design engineer responsible develop...   \n",
       "2  senior financial analyst budgeting forecasting...   \n",
       "3  registered nurse icu intensive care unit criti...   \n",
       "\n",
       "                            Preprocessed_Description  \\\n",
       "0  sale representative regional account client re...   \n",
       "1  mechanical design engineer responsible develop...   \n",
       "2  senior financial analyst budgeting forecast fi...   \n",
       "3  register nurse icu intensive care unit critica...   \n",
       "\n",
       "                      Preprocessed_Title  \\\n",
       "0  sale representative regional accounts   \n",
       "1             mechanical design engineer   \n",
       "2               senior financial analyst   \n",
       "3   registered nurse intensive care unit   \n",
       "\n",
       "                      Preprocessed_Title_Description  \n",
       "0  sale representative regional accounts sale rep...  \n",
       "1  mechanical design engineer mechanical design e...  \n",
       "2  senior financial analyst senior financial anal...  \n",
       "3  registered nurse intensive care unit register ...  "
      ]
     },
     "execution_count": 10,
     "metadata": {},
     "output_type": "execute_result"
    }
   ],
   "source": [
    "df_examples"
   ]
  },
  {
   "cell_type": "code",
   "execution_count": 11,
   "id": "b430e8cc",
   "metadata": {},
   "outputs": [],
   "source": [
    "y_pred_examples = loaded_model.predict(df_examples['Preprocessed_Title_Description'])"
   ]
  },
  {
   "cell_type": "code",
   "execution_count": 12,
   "id": "4ec445fd",
   "metadata": {},
   "outputs": [
    {
     "data": {
      "text/plain": [
       "array([3, 0, 2, 1], dtype=int64)"
      ]
     },
     "execution_count": 12,
     "metadata": {},
     "output_type": "execute_result"
    }
   ],
   "source": [
    "y_pred_examples"
   ]
  },
  {
   "cell_type": "code",
   "execution_count": 13,
   "id": "f78e1787",
   "metadata": {},
   "outputs": [],
   "source": [
    "category_mapping={\n",
    "    0:'Engineering',\n",
    "    1:'Healthcare_Nursing',\n",
    "    2:'Accounting_Finance',\n",
    "    3:'Sales'\n",
    "}"
   ]
  },
  {
   "cell_type": "code",
   "execution_count": 14,
   "id": "86e4ad69",
   "metadata": {},
   "outputs": [
    {
     "name": "stdout",
     "output_type": "stream",
     "text": [
      "Predicted Category:  Sales\n",
      "Predicted Category:  Engineering\n",
      "Predicted Category:  Accounting_Finance\n",
      "Predicted Category:  Healthcare_Nursing\n"
     ]
    }
   ],
   "source": [
    "for y_pred in y_pred_examples:\n",
    "    category_name=category_mapping.get(y_pred,'Unknown')\n",
    "    print('Predicted Category: ',category_name)"
   ]
  },
  {
   "cell_type": "code",
   "execution_count": null,
   "id": "7cf72e7e",
   "metadata": {},
   "outputs": [],
   "source": []
  }
 ],
 "metadata": {
  "kernelspec": {
   "display_name": "Python 3 (ipykernel)",
   "language": "python",
   "name": "python3"
  },
  "language_info": {
   "codemirror_mode": {
    "name": "ipython",
    "version": 3
   },
   "file_extension": ".py",
   "mimetype": "text/x-python",
   "name": "python",
   "nbconvert_exporter": "python",
   "pygments_lexer": "ipython3",
   "version": "3.11.5"
  }
 },
 "nbformat": 4,
 "nbformat_minor": 5
}
